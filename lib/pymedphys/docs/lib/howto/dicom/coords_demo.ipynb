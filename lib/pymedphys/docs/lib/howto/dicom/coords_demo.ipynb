{
 "cells": [
  {
   "cell_type": "markdown",
   "metadata": {},
   "source": [
    "# DICOM Dose and Coordinate handling\n"
   ]
  },
  {
   "cell_type": "code",
   "execution_count": null,
   "metadata": {},
   "outputs": [],
   "source": [
    "import matplotlib.pyplot as plt\n",
    "import numpy as np\n",
    "import pydicom"
   ]
  },
  {
   "cell_type": "code",
   "execution_count": null,
   "metadata": {},
   "outputs": [],
   "source": [
    "!pip install pydicom pymedphys\n",
    "\n",
    "import pymedphys\n",
    "from pymedphys._data import download"
   ]
  },
  {
   "cell_type": "code",
   "execution_count": null,
   "metadata": {},
   "outputs": [],
   "source": [
    "test_dicom_dose_filepath = download.get_file_within_data_zip(\n",
    "        \"dicom_dose_test_data.zip\", \"RD.wedge.dcm\"\n",
    "    )\n",
    "ds = pydicom.dcmread(test_dicom_dose_filepath)"
   ]
  },
  {
   "cell_type": "markdown",
   "metadata": {},
   "source": [
    "## Plot T/C/S dose plans in the IEC Fixed coordinate system:"
   ]
  },
  {
   "cell_type": "code",
   "execution_count": null,
   "metadata": {},
   "outputs": [],
   "source": [
    "def plot_tcs_dose_planes(dose_plane, long_axis, vert_axis, lat_axis, norm_value, dose_index):\n",
    "    fig, axs = plt.subplots(nrows=1, ncols=3, figsize=(16, 6), gridspec_kw={'width_ratios': [1, 1, 2, ]})\n",
    "    fig.suptitle('Dose', fontsize=16)\n",
    "    \n",
    "    # Generate transverse dose plot\n",
    "    axs[0].set_anchor(\"C\")\n",
    "    axs[0].set_title(\"Transverse\")\n",
    "    im = axs[0].imshow(\n",
    "            dose[dose_index[0], :, :],\n",
    "            cmap=\"jet\",\n",
    "            vmin=0,\n",
    "            vmax=max_dose_value,\n",
    "            aspect=\"equal\",\n",
    "            extent=(x[0], x[-1], z[-1], z[0]),\n",
    "        )\n",
    "\n",
    "    # Generate sagittal dose plot\n",
    "    axs[1].set_anchor(\"C\")\n",
    "    axs[1].set_title(\"Sagittal\")\n",
    "    im = axs[1].imshow(\n",
    "            np.rot90(dose[:, :, dose_index[2]], k=3),\n",
    "            cmap=\"jet\",\n",
    "            vmin=0,\n",
    "            vmax=max_dose_value,\n",
    "            aspect=\"equal\",\n",
    "            extent=(y[0], y[-1], z[-1], z[0]),\n",
    "        )\n",
    "\n",
    "    # Generate coronal dose plot\n",
    "    axs[2].set_anchor(\"C\")\n",
    "    axs[2].set_title(\"Coronal\")\n",
    "    im = axs[2].imshow(\n",
    "            dose[:, dose_index[1], :],\n",
    "            cmap=\"jet\",\n",
    "            vmin=0,\n",
    "            vmax=max_dose_value,\n",
    "            aspect=\"equal\",\n",
    "            extent=(x[0], x[-1], y[-1], y[0]),\n",
    "        )\n",
    "    fig.colorbar(im, ax=axs[2])"
   ]
  },
  {
   "cell_type": "code",
   "execution_count": null,
   "metadata": {},
   "outputs": [],
   "source": [
    "dose = pymedphys._dicom.dose.dose_from_dataset(ds)\n",
    "\n",
    "max_dose_value = np.max(dose)\n",
    "max_dose_index = pymedphys._dicom.coords.unravelled_argmax(dose)\n",
    "max_dose_x, max_dose_y, max_dose_z = max_dose_index\n",
    "\n",
    "x, y, z = pymedphys._dicom.coords.xyz_axes_from_dataset(ds, coord_system=\"IEC FIXED\")[0:3]\n",
    "\n",
    "# For IEC fixed, lateral axis=x, vertical_axis=z, longitudinal_axis=y:\n",
    "\n",
    "plot_tcs_dose_planes(dose, y, z, x, max_dose_value, max_dose_index)\n"
   ]
  },
  {
   "cell_type": "markdown",
   "metadata": {},
   "source": []
  },
  {
   "cell_type": "code",
   "execution_count": null,
   "metadata": {},
   "outputs": [],
   "source": [
    "\n",
    "\n",
    "test_dicom_dict = {\n",
    "    \"Modality\": \"RTDOSE\",\n",
    "    \"ImagePositionPatient\": [-1.0, -1.0, -1.0],\n",
    "    \"ImageOrientationPatient\": [1, 0, 0, 0, 1, 0],\n",
    "    \"BitsAllocated\": 32,\n",
    "    \"Rows\": 2,\n",
    "    \"Columns\": 3,\n",
    "    \"NumberOfFrames\": 4,\n",
    "    \"PixelRepresentation\": 0,\n",
    "    \"SamplesPerPixel\": 1,\n",
    "    \"PhotometricInterpretation\": \"MONOCHROME2\",\n",
    "    \"PixelSpacing\": [1.0, 1.0],\n",
    "    \"GridFrameOffsetVector\": [0.0, 1.0, 2.0, 3.0],\n",
    "    \"PixelData\": pixels.tobytes(),\n",
    "    \"DoseGridScaling\": 1,\n",
    "    }\n",
    "\n",
    "ds = pymedphys._dicom.create.dicom_dataset_from_dict(test_dicom_dict)\n",
    "ds.fix_meta_info(enforce_standard=False)\n",
    "ds"
   ]
  }
 ],
 "metadata": {
  "anaconda-cloud": {},
  "kernelspec": {
   "display_name": "Python 3",
   "language": "python",
   "name": "python3"
  },
  "language_info": {
   "codemirror_mode": {
    "name": "ipython",
    "version": 3
   },
   "file_extension": ".py",
   "mimetype": "text/x-python",
   "name": "python",
   "nbconvert_exporter": "python",
   "pygments_lexer": "ipython3",
   "version": "3.7.9-final"
  }
 },
 "nbformat": 4,
 "nbformat_minor": 4
}
